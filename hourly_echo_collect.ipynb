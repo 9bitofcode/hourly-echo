{
 "cells": [
  {
   "cell_type": "markdown",
   "metadata": {},
   "source": [
    "# Hourly Echo\n",
    "\n",
    "This notebook downloads Quotes data and create a database."
   ]
  },
  {
   "cell_type": "markdown",
   "metadata": {},
   "source": [
    "---"
   ]
  },
  {
   "cell_type": "markdown",
   "metadata": {},
   "source": [
    "## Quotes Dataset\n",
    "\n",
    "We use Quotes Dataset from [ShivaliGoel/Quotes-500K](https://github.com/ShivaliGoel/Quotes-500K)\n"
   ]
  },
  {
   "cell_type": "markdown",
   "metadata": {},
   "source": [
    "### Download Dataset"
   ]
  },
  {
   "cell_type": "code",
   "execution_count": 1,
   "metadata": {},
   "outputs": [],
   "source": [
    "import gdown"
   ]
  },
  {
   "cell_type": "code",
   "execution_count": 2,
   "metadata": {
    "vscode": {
     "languageId": "shellscript"
    }
   },
   "outputs": [],
   "source": [
    "# !gdown --fuzzy https://drive.google.com/file/d/1dPCpNIUxqhe2GccLF0tmAapnwgA5Olr2/view"
   ]
  },
  {
   "cell_type": "markdown",
   "metadata": {},
   "source": [
    "### Load csv data"
   ]
  },
  {
   "cell_type": "code",
   "execution_count": 3,
   "metadata": {},
   "outputs": [],
   "source": [
    "quotes = open('quotes_dataset.csv').read().splitlines()"
   ]
  },
  {
   "cell_type": "code",
   "execution_count": 4,
   "metadata": {},
   "outputs": [
    {
     "name": "stdout",
     "output_type": "stream",
     "text": [
      "Total quotes in dataset: 499996\n"
     ]
    }
   ],
   "source": [
    "print(\"Total quotes in dataset:\", len(quotes))"
   ]
  },
  {
   "cell_type": "code",
   "execution_count": 5,
   "metadata": {},
   "outputs": [
    {
     "name": "stdout",
     "output_type": "stream",
     "text": [
      "\"I'm selfish, impatient and a little insecure. I make mistakes, I am out of control and at times hard to handle. But if you can't handle me at my worst, then you sure as hell don't deserve me at my best.\",Marilyn Monroe,\"attributed-no-source, best, life, love, mistakes, out-of-control, truth, worst\",,,,,,,,,,,,,,,,,,,,,,,,,,,,,,,,,,,,,,,\n"
     ]
    }
   ],
   "source": [
    "print(quotes[0])"
   ]
  },
  {
   "cell_type": "markdown",
   "metadata": {},
   "source": [
    "---"
   ]
  },
  {
   "cell_type": "markdown",
   "metadata": {},
   "source": [
    "## Clean Data\n",
    "\n",
    "This Dataset doesn't have cleaned data. So, we have to clean it and extract data as per our need"
   ]
  },
  {
   "cell_type": "code",
   "execution_count": 6,
   "metadata": {},
   "outputs": [],
   "source": [
    "quote_list = []\n",
    "\n",
    "for quote_data in quotes:\n",
    "    temp_quote_data = quote_data\n",
    "    if quote_data.strip() != '':\n",
    "        try:\n",
    "            if quote_data.startswith('\"'):\n",
    "                quote = quote_data.split('\",')[0].replace('\"', '')\n",
    "                quote_data = quote_data.split('\",')[1]\n",
    "            elif quote_data.startswith(\"'\"):\n",
    "                quote = quote_data.split(\"',\")[0].replace(\"'\", '')\n",
    "                quote_data = quote_data.split(\"',\")[1]\n",
    "            else:\n",
    "                quote = quote_data.split(',')[0]\n",
    "                quote_data = quote_data.split(',')[1]\n",
    "        except:\n",
    "            # print(\"Error => \", temp_quote_data)\n",
    "            continue\n",
    "\n",
    "        try:\n",
    "            if quote_data.startswith('\"'):\n",
    "                author = quote_data.split('\",')[0].replace('\"', '')\n",
    "            elif quote_data.startswith(\"'\"):\n",
    "                author = quote_data.split(\"',\")[0].replace(\"'\", '')\n",
    "            else:\n",
    "                author = quote_data.split(',')[0]\n",
    "            author = author.split(\",\")[0].strip()\n",
    "        except:\n",
    "            # print(\"Error => \", temp_quote_data)\n",
    "            continue\n",
    "\n",
    "        if quote.strip() != '' and quote.strip().endswith(\".\") and author.strip() != '':\n",
    "            quote_list.append([quote, author])"
   ]
  },
  {
   "cell_type": "code",
   "execution_count": 7,
   "metadata": {},
   "outputs": [
    {
     "name": "stdout",
     "output_type": "stream",
     "text": [
      "Total Quotes after cleaning: 418368\n"
     ]
    }
   ],
   "source": [
    "print(\"Total Quotes after cleaning:\", len(quote_list))"
   ]
  },
  {
   "cell_type": "code",
   "execution_count": 8,
   "metadata": {},
   "outputs": [
    {
     "name": "stdout",
     "output_type": "stream",
     "text": [
      "[\"I'm selfish, impatient and a little insecure. I make mistakes, I am out of control and at times hard to handle. But if you can't handle me at my worst, then you sure as hell don't deserve me at my best.\", 'Marilyn Monroe']\n"
     ]
    }
   ],
   "source": [
    "print(quote_list[0])"
   ]
  },
  {
   "cell_type": "markdown",
   "metadata": {},
   "source": [
    "---"
   ]
  },
  {
   "cell_type": "markdown",
   "metadata": {},
   "source": [
    "## Select Quotes"
   ]
  },
  {
   "cell_type": "code",
   "execution_count": 9,
   "metadata": {},
   "outputs": [],
   "source": [
    "import matplotlib.pyplot as plt"
   ]
  },
  {
   "cell_type": "code",
   "execution_count": 10,
   "metadata": {},
   "outputs": [
    {
     "data": {
      "text/plain": [
       "(array([2.50977e+05, 1.04897e+05, 3.14640e+04, 1.35760e+04, 6.89500e+03,\n",
       "        3.79400e+03, 2.31300e+03, 1.38700e+03, 8.99000e+02, 5.53000e+02,\n",
       "        3.79000e+02, 2.53000e+02, 2.21000e+02, 1.55000e+02, 1.24000e+02,\n",
       "        9.70000e+01, 7.50000e+01, 6.50000e+01, 5.50000e+01, 4.70000e+01,\n",
       "        3.80000e+01, 3.30000e+01, 2.50000e+01, 2.20000e+01, 2.40000e+01]),\n",
       " array([   4.  ,  163.28,  322.56,  481.84,  641.12,  800.4 ,  959.68,\n",
       "        1118.96, 1278.24, 1437.52, 1596.8 , 1756.08, 1915.36, 2074.64,\n",
       "        2233.92, 2393.2 , 2552.48, 2711.76, 2871.04, 3030.32, 3189.6 ,\n",
       "        3348.88, 3508.16, 3667.44, 3826.72, 3986.  ]),\n",
       " <BarContainer object of 25 artists>)"
      ]
     },
     "execution_count": 10,
     "metadata": {},
     "output_type": "execute_result"
    },
    {
     "data": {
      "image/png": "[encoded data removed]",
      "text/plain": [
       "<Figure size 640x480 with 1 Axes>"
      ]
     },
     "metadata": {},
     "output_type": "display_data"
    }
   ],
   "source": [
    "plt.hist([len(q[0]) for q in quote_list], bins=25)"
   ]
  },
  {
   "cell_type": "markdown",
   "metadata": {},
   "source": [
    "In this project, we will use Quotes with length smaller than 80 characters."
   ]
  },
  {
   "cell_type": "markdown",
   "metadata": {},
   "source": [
    "---"
   ]
  },
  {
   "cell_type": "markdown",
   "metadata": {},
   "source": [
    "## Create Database"
   ]
  },
  {
   "cell_type": "code",
   "execution_count": 11,
   "metadata": {
    "vscode": {
     "languageId": "shellscript"
    }
   },
   "outputs": [],
   "source": [
    "!mkdir -p db"
   ]
  },
  {
   "cell_type": "code",
   "execution_count": 12,
   "metadata": {},
   "outputs": [],
   "source": [
    "import sqlite3\n",
    "\n",
    "conn = sqlite3.connect('db/quotes.db')\n",
    "cur = conn.cursor()\n",
    "\n",
    "cur.execute(\n",
    "    \"\"\"CREATE TABLE IF NOT EXISTS quotes (\n",
    "        quote TEXT UNIQUE, \n",
    "        author TEXT,\n",
    "        tweeted INTEGER DEFAULT 0\n",
    "    )\"\"\")\n",
    "conn.commit()"
   ]
  },
  {
   "cell_type": "markdown",
   "metadata": {},
   "source": [
    "### Insert Quotes into Database"
   ]
  },
  {
   "cell_type": "code",
   "execution_count": 13,
   "metadata": {},
   "outputs": [],
   "source": [
    "for q in quote_list:\n",
    "    if len(q[0]) < 80:\n",
    "        cur.execute(\n",
    "            \"INSERT OR IGNORE INTO quotes (quote, author) VALUES (?, ?)\", (q[0], q[1]))\n",
    "conn.commit()"
   ]
  },
  {
   "cell_type": "code",
   "execution_count": 14,
   "metadata": {},
   "outputs": [
    {
     "name": "stdout",
     "output_type": "stream",
     "text": [
      "Total quotes in database: 107099\n"
     ]
    }
   ],
   "source": [
    "cur.execute(\"SELECT COUNT(*) FROM quotes\")\n",
    "print(\"Total quotes in database:\", cur.fetchone()[0])\n",
    "conn.close()"
   ]
  },
  {
   "cell_type": "markdown",
   "metadata": {},
   "source": [
    "---"
   ]
  },
  {
   "cell_type": "markdown",
   "metadata": {},
   "source": [
    "This notebook saves 107099 Quotes in the database.\n",
    "\n",
    "If we tweet 1 quote per hour, it will take 107099/(24*365)= 12.225913242 years to tweet all quotes."
   ]
  },
  {
   "cell_type": "markdown",
   "metadata": {},
   "source": [
    "---"
   ]
  },
  {
   "cell_type": "markdown",
   "metadata": {},
   "source": [
    "<p align=\"center\">Made with 💖 by Codinasion</p>"
   ]
  },
  {
   "cell_type": "markdown",
   "metadata": {},
   "source": [
    "---"
   ]
  }
 ],
 "metadata": {
  "kernelspec": {
   "display_name": "Python 3.10.6 ('.venv': venv)",
   "language": "python",
   "name": "python3"
  },
  "language_info": {
   "codemirror_mode": {
    "name": "ipython",
    "version": 3
   },
   "file_extension": ".py",
   "mimetype": "text/x-python",
   "name": "python",
   "nbconvert_exporter": "python",
   "pygments_lexer": "ipython3",
   "version": "3.10.6"
  },
  "orig_nbformat": 4,
  "vscode": {
   "interpreter": {
    "hash": "5b94c429e1aee99f8230f19ffb7ae8c7beee29b996ce0b142e33b9f3536e8c14"
   }
  }
 },
 "nbformat": 4,
 "nbformat_minor": 2
}
