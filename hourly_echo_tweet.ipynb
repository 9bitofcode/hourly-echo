{
 "cells": [
  {
   "cell_type": "markdown",
   "metadata": {},
   "source": [
    "# Hourly Echo\n",
    "\n",
    "Tweet quote every hour."
   ]
  },
  {
   "cell_type": "markdown",
   "metadata": {},
   "source": [
    "---"
   ]
  },
  {
   "cell_type": "code",
   "execution_count": null,
   "metadata": {},
   "outputs": [],
   "source": [
    "import random\n",
    "import os\n",
    "import sqlite3\n",
    "import getopt\n",
    "import tweepy\n",
    "import sys"
   ]
  },
  {
   "cell_type": "markdown",
   "metadata": {},
   "source": [
    "---"
   ]
  },
  {
   "cell_type": "markdown",
   "metadata": {},
   "source": [
    "### Random Quote"
   ]
  },
  {
   "cell_type": "code",
   "execution_count": 1,
   "metadata": {
    "vscode": {
     "languageId": "shellscript"
    }
   },
   "outputs": [],
   "source": [
    "!mkdir -p db"
   ]
  },
  {
   "cell_type": "code",
   "execution_count": null,
   "metadata": {
    "vscode": {
     "languageId": "shellscript"
    }
   },
   "outputs": [],
   "source": [
    "!wget https://github.com/codinasion/hourly-echo/blob/db/quotes.db?raw=true -O db/quotes.db"
   ]
  },
  {
   "cell_type": "code",
   "execution_count": null,
   "metadata": {},
   "outputs": [],
   "source": [
    "conn = sqlite3.connect('db/quotes.db')\n",
    "cur = conn.cursor()"
   ]
  },
  {
   "cell_type": "code",
   "execution_count": null,
   "metadata": {},
   "outputs": [],
   "source": [
    "# fetch one random record where tweeted = 0\n",
    "quote_data = cur.execute(\"SELECT * FROM quotes WHERE tweeted = 0 ORDER BY RANDOM() LIMIT 1\").fetchone()\n",
    "quote = quote_data[0]\n",
    "author = quote_data[1]"
   ]
  },
  {
   "cell_type": "markdown",
   "metadata": {},
   "source": [
    "### Random Background Image"
   ]
  },
  {
   "cell_type": "code",
   "execution_count": null,
   "metadata": {},
   "outputs": [],
   "source": [
    "images = os.listdir('images')\n",
    "background_image = random.choice(images)"
   ]
  },
  {
   "cell_type": "markdown",
   "metadata": {},
   "source": [
    "### Random Font"
   ]
  },
  {
   "cell_type": "code",
   "execution_count": null,
   "metadata": {},
   "outputs": [],
   "source": [
    "fonts = os.listdir('fonts')\n",
    "font = random.choice(fonts).split(\".\")[0]"
   ]
  },
  {
   "cell_type": "markdown",
   "metadata": {},
   "source": [
    "---"
   ]
  },
  {
   "cell_type": "markdown",
   "metadata": {},
   "source": [
    "### Merge Quote and Background Image"
   ]
  },
  {
   "cell_type": "code",
   "execution_count": null,
   "metadata": {
    "vscode": {
     "languageId": "shellscript"
    }
   },
   "outputs": [],
   "source": [
    "!mkdir -p output"
   ]
  },
  {
   "cell_type": "code",
   "execution_count": null,
   "metadata": {},
   "outputs": [],
   "source": [
    "file = open(\"output/quote.srt\", \"w\")\n",
    "file.write(f\"\"\"1\n",
    "00:00:00,000 --> 00:00:05,000\n",
    "{quote}\"\"\")\n",
    "file.close()\n",
    "\n",
    "file = open(\"output/author.srt\", \"w\")\n",
    "file.write(f\"\"\"1\n",
    "00:00:00,000 --> 00:00:05,000\n",
    "{author}\"\"\")\n",
    "file.close()"
   ]
  },
  {
   "cell_type": "code",
   "execution_count": null,
   "metadata": {
    "vscode": {
     "languageId": "shellscript"
    }
   },
   "outputs": [],
   "source": [
    "!sh generate_image.sh \"images/{background_image}\" \"{font}\""
   ]
  },
  {
   "cell_type": "markdown",
   "metadata": {},
   "source": [
    "---"
   ]
  },
  {
   "cell_type": "markdown",
   "metadata": {},
   "source": [
    "### Twitter Credentials\n",
    "\n",
    "1. Try to get the credentials passed as arguments\n",
    "2. If not, try to get the credentials from the `.env` file"
   ]
  },
  {
   "cell_type": "code",
   "execution_count": null,
   "metadata": {},
   "outputs": [],
   "source": [
    "CONSUMER_KEY = \"\"\n",
    "CONSUMER_SECRET = \"\"\n",
    "ACCESS_TOKEN = \"\"\n",
    "ACCESS_TOKEN_SECRET = \"\"\n"
   ]
  },
  {
   "cell_type": "code",
   "execution_count": null,
   "metadata": {},
   "outputs": [],
   "source": [
    "argumentList = sys.argv[1:]\n",
    "\n",
    "options = \"1:2:3:4:\"\n",
    "\n",
    "long_options = [\n",
    "    \"twitter_consumer_key=\",\n",
    "    \"twitter_consumer_secret=\",\n",
    "    \"twitter_access_token=\",\n",
    "    \"twitter_access_token_secret=\",\n",
    "]\n",
    "\n",
    "try:\n",
    "    arguments, values = getopt.getopt(argumentList, options, long_options)\n",
    "\n",
    "    for currentArgument, currentValue in arguments:\n",
    "\n",
    "        if currentArgument in [\"-1\", \"--twitter_consumer_key\"]:\n",
    "            CONSUMER_KEY = currentValue\n",
    "        elif currentArgument in [\"-2\", \"--twitter_consumer_secret\"]:\n",
    "            CONSUMER_SECRET = currentValue\n",
    "        elif currentArgument in [\"-3\", \"--twitter_access_token\"]:\n",
    "            ACCESS_TOKEN = currentValue\n",
    "        elif currentArgument in [\"-4\", \"--twitter_access_token_secret\"]:\n",
    "            ACCESS_TOKEN_SECRET = currentValue\n",
    "\n",
    "except getopt.error as err:\n",
    "    \"\"\"You may see an error like 'option --ip not recognized' if executed from Jupyter Notebook\"\"\"\n",
    "    print(str(err))\n"
   ]
  },
  {
   "cell_type": "code",
   "execution_count": null,
   "metadata": {},
   "outputs": [],
   "source": [
    "print(\"Consumer Key:\", CONSUMER_KEY)\n",
    "print(\"Consumer Secret:\", CONSUMER_SECRET)\n",
    "print(\"Access Token:\", ACCESS_TOKEN)\n",
    "print(\"Access Token Secret:\", ACCESS_TOKEN_SECRET)\n"
   ]
  },
  {
   "cell_type": "code",
   "execution_count": null,
   "metadata": {},
   "outputs": [],
   "source": [
    "%load_ext dotenv\n",
    "%dotenv\n",
    "\n",
    "if CONSUMER_KEY == \"\" or CONSUMER_SECRET == \"\" or ACCESS_TOKEN == \"\" or ACCESS_TOKEN_SECRET == \"\":\n",
    "    if CONSUMER_KEY == \"\":\n",
    "        CONSUMER_KEY = os.getenv(\"TWITTER_CONSUMER_KEY\")\n",
    "    if CONSUMER_SECRET == \"\":\n",
    "        CONSUMER_SECRET = os.getenv(\"TWITTER_CONSUMER_SECRET\")\n",
    "    if ACCESS_TOKEN == \"\":\n",
    "        ACCESS_TOKEN = os.getenv(\"TWITTER_ACCESS_TOKEN\")\n",
    "    if ACCESS_TOKEN_SECRET == \"\":\n",
    "        ACCESS_TOKEN_SECRET = os.getenv(\"TWITTER_ACCESS_TOKEN_SECRET\")\n",
    "    print(\"Consumer Key:\", CONSUMER_KEY)\n",
    "    print(\"Consumer Secret:\", CONSUMER_SECRET)\n",
    "    print(\"Access Token:\", ACCESS_TOKEN)\n",
    "    print(\"Access Token Secret:\", ACCESS_TOKEN_SECRET)\n"
   ]
  },
  {
   "cell_type": "markdown",
   "metadata": {},
   "source": [
    "---"
   ]
  },
  {
   "cell_type": "code",
   "execution_count": null,
   "metadata": {},
   "outputs": [],
   "source": [
    "if CONSUMER_KEY == \"\" or CONSUMER_KEY == None:\n",
    "    print(\"No consumer key\")\n",
    "if CONSUMER_SECRET == \"\" or CONSUMER_SECRET == None:\n",
    "    print(\"No consumer secret\")\n",
    "if ACCESS_TOKEN == \"\" or ACCESS_TOKEN == None:\n",
    "    print(\"No access key\")\n",
    "if ACCESS_TOKEN_SECRET == \"\" or ACCESS_TOKEN_SECRET == None:\n",
    "    print(\"No access secret\")\n",
    "else:\n",
    "    # upload image to twitter\n",
    "    auth = tweepy.OAuthHandler(\n",
    "        CONSUMER_KEY, CONSUMER_SECRET, ACCESS_TOKEN, ACCESS_TOKEN_SECRET)\n",
    "\n",
    "    api = tweepy.API(auth)\n",
    "\n",
    "    media = api.media_upload(filename=\"output/output.png\")\n",
    "    print(media.media_id)\n",
    "\n",
    "    tweet = api.update_status(status=\"\", media_ids=[media.media_id])\n",
    "    print(tweet.id)\n",
    "\n",
    "    cur.execute(\"UPDATE quotes SET tweeted = 1 WHERE quote = ?\", (quote,))\n",
    "    conn.commit()\n",
    "    conn.close()\n"
   ]
  },
  {
   "cell_type": "markdown",
   "metadata": {},
   "source": [
    "---"
   ]
  },
  {
   "cell_type": "markdown",
   "metadata": {},
   "source": [
    "<p align=\"center\">Made with 💖 by Codinasion</p>"
   ]
  },
  {
   "cell_type": "markdown",
   "metadata": {},
   "source": [
    "---"
   ]
  }
 ],
 "metadata": {
  "kernelspec": {
   "display_name": "Python 3.10.6 ('.venv': venv)",
   "language": "python",
   "name": "python3"
  },
  "language_info": {
   "codemirror_mode": {
    "name": "ipython",
    "version": 3
   },
   "file_extension": ".py",
   "mimetype": "text/x-python",
   "name": "python",
   "nbconvert_exporter": "python",
   "pygments_lexer": "ipython3",
   "version": "3.10.6"
  },
  "orig_nbformat": 4,
  "vscode": {
   "interpreter": {
    "hash": "ae32bf1f4d954a1c7ef12b9354eccef52c1d82d40ff7a3a5a48a792104d3fab7"
   }
  }
 },
 "nbformat": 4,
 "nbformat_minor": 2
}
