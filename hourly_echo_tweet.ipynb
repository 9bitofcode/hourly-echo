{
 "cells": [
  {
   "cell_type": "markdown",
   "metadata": {},
   "source": [
    "# Hourly Echo\n",
    "\n",
    "Tweet quote every hour."
   ]
  },
  {
   "cell_type": "markdown",
   "metadata": {},
   "source": [
    "---"
   ]
  },
  {
   "cell_type": "code",
   "execution_count": 1,
   "metadata": {},
   "outputs": [],
   "source": [
    "import random\n",
    "import os\n",
    "import sqlite3\n",
    "import getopt\n",
    "import tweepy\n",
    "import sys"
   ]
  },
  {
   "cell_type": "markdown",
   "metadata": {},
   "source": [
    "---"
   ]
  },
  {
   "cell_type": "markdown",
   "metadata": {},
   "source": [
    "### Random Quote"
   ]
  },
  {
   "cell_type": "code",
   "execution_count": 2,
   "metadata": {},
   "outputs": [],
   "source": [
    "conn = sqlite3.connect('db/quotes.db')\n",
    "cur = conn.cursor()"
   ]
  },
  {
   "cell_type": "code",
   "execution_count": 3,
   "metadata": {},
   "outputs": [],
   "source": [
    "# fetch one random record where tweeted = 0\n",
    "quote_data = cur.execute(\"SELECT * FROM quotes WHERE tweeted = 0 ORDER BY RANDOM() LIMIT 1\").fetchone()\n",
    "quote = quote_data[0]\n",
    "author = quote_data[1]"
   ]
  },
  {
   "cell_type": "markdown",
   "metadata": {},
   "source": [
    "### Random Background Image"
   ]
  },
  {
   "cell_type": "code",
   "execution_count": 4,
   "metadata": {},
   "outputs": [],
   "source": [
    "images = os.listdir('images')\n",
    "background_image = random.choice(images)"
   ]
  },
  {
   "cell_type": "markdown",
   "metadata": {},
   "source": [
    "### Random Font"
   ]
  },
  {
   "cell_type": "code",
   "execution_count": 5,
   "metadata": {},
   "outputs": [],
   "source": [
    "fonts = os.listdir('fonts')\n",
    "font = random.choice(fonts).split(\".\")[0]"
   ]
  },
  {
   "cell_type": "markdown",
   "metadata": {},
   "source": [
    "---"
   ]
  },
  {
   "cell_type": "markdown",
   "metadata": {},
   "source": [
    "### Merge Quote and Background Image"
   ]
  },
  {
   "cell_type": "code",
   "execution_count": 6,
   "metadata": {
    "vscode": {
     "languageId": "shellscript"
    }
   },
   "outputs": [],
   "source": [
    "!mkdir -p output"
   ]
  },
  {
   "cell_type": "code",
   "execution_count": 7,
   "metadata": {},
   "outputs": [],
   "source": [
    "file = open(\"output/quote.srt\", \"w\")\n",
    "file.write(f\"\"\"1\n",
    "00:00:00,000 --> 00:00:05,000\n",
    "{quote}\"\"\")\n",
    "file.close()\n",
    "\n",
    "file = open(\"output/author.srt\", \"w\")\n",
    "file.write(f\"\"\"1\n",
    "00:00:00,000 --> 00:00:05,000\n",
    "{author}\"\"\")\n",
    "file.close()"
   ]
  },
  {
   "cell_type": "code",
   "execution_count": 8,
   "metadata": {
    "vscode": {
     "languageId": "shellscript"
    }
   },
   "outputs": [
    {
     "name": "stdout",
     "output_type": "stream",
     "text": [
      "ffmpeg version 4.4.2-0ubuntu0.22.04.1 Copyright (c) 2000-2021 the FFmpeg developers\n",
      "  built with gcc 11 (Ubuntu 11.2.0-19ubuntu1)\n",
      "  configuration: --prefix=/usr --extra-version=0ubuntu0.22.04.1 --toolchain=hardened --libdir=/usr/lib/x86_64-linux-gnu --incdir=/usr/include/x86_64-linux-gnu --arch=amd64 --enable-gpl --disable-stripping --enable-gnutls --enable-ladspa --enable-libaom --enable-libass --enable-libbluray --enable-libbs2b --enable-libcaca --enable-libcdio --enable-libcodec2 --enable-libdav1d --enable-libflite --enable-libfontconfig --enable-libfreetype --enable-libfribidi --enable-libgme --enable-libgsm --enable-libjack --enable-libmp3lame --enable-libmysofa --enable-libopenjpeg --enable-libopenmpt --enable-libopus --enable-libpulse --enable-librabbitmq --enable-librubberband --enable-libshine --enable-libsnappy --enable-libsoxr --enable-libspeex --enable-libsrt --enable-libssh --enable-libtheora --enable-libtwolame --enable-libvidstab --enable-libvorbis --enable-libvpx --enable-libwebp --enable-libx265 --enable-libxml2 --enable-libxvid --enable-libzimg --enable-libzmq --enable-libzvbi --enable-lv2 --enable-omx --enable-openal --enable-opencl --enable-opengl --enable-sdl2 --enable-pocketsphinx --enable-librsvg --enable-libmfx --enable-libdc1394 --enable-libdrm --enable-libiec61883 --enable-chromaprint --enable-frei0r --enable-libx264 --enable-shared\n",
      "  libavutil      56. 70.100 / 56. 70.100\n",
      "  libavcodec     58.134.100 / 58.134.100\n",
      "  libavformat    58. 76.100 / 58. 76.100\n",
      "  libavdevice    58. 13.100 / 58. 13.100\n",
      "  libavfilter     7.110.100 /  7.110.100\n",
      "  libswscale      5.  9.100 /  5.  9.100\n",
      "  libswresample   3.  9.100 /  3.  9.100\n",
      "  libpostproc    55.  9.100 / 55.  9.100\n",
      "Input #0, png_pipe, from 'images/background_image_3.png':\n",
      "  Duration: N/A, bitrate: N/A\n",
      "  Stream #0:0: Video: png, rgba(pc), 1600x900 [SAR 3780:3780 DAR 16:9], 25 fps, 25 tbr, 25 tbn, 25 tbc\n",
      "Stream mapping:\n",
      "  Stream #0:0 -> #0:0 (png (native) -> png (native))\n",
      "Press [q] to stop, [?] for help\n",
      "\u001b[1;32m[Parsed_subtitles_0 @ 0x560480729e40] \u001b[0mlibass API version: 0x1502000\n",
      "\u001b[1;32m[Parsed_subtitles_0 @ 0x560480729e40] \u001b[0mlibass source: tarball: 0.15.2\n",
      "\u001b[1;32m[Parsed_subtitles_0 @ 0x560480729e40] \u001b[0mShaper: FriBidi 1.0.8 (SIMPLE) HarfBuzz-ng 2.7.4 (COMPLEX)\n",
      "\u001b[1;32m[Parsed_subtitles_0 @ 0x560480729e40] \u001b[0mLoading font file 'fonts/Fredericka the Great.ttf'\n",
      "\u001b[1;32m[Parsed_subtitles_0 @ 0x560480729e40] \u001b[0mLoading font file 'fonts/VT323.ttf'\n",
      "\u001b[1;32m[Parsed_subtitles_0 @ 0x560480729e40] \u001b[0mLoading font file 'fonts/Cabin Sketch.ttf'\n",
      "\u001b[1;32m[Parsed_subtitles_0 @ 0x560480729e40] \u001b[0mLoading font file 'fonts/Righteous.ttf'\n",
      "\u001b[1;32m[Parsed_subtitles_0 @ 0x560480729e40] \u001b[0mLoading font file 'fonts/Russo One.ttf'\n",
      "\u001b[1;32m[Parsed_subtitles_0 @ 0x560480729e40] \u001b[0mLoading font file 'fonts/Audiowide.ttf'\n",
      "\u001b[1;32m[Parsed_subtitles_0 @ 0x560480729e40] \u001b[0mLoading font file 'fonts/Rubik Marker Hatch.ttf'\n",
      "\u001b[1;32m[Parsed_subtitles_0 @ 0x560480729e40] \u001b[0mLoading font file 'fonts/Nanum Pen.ttf'\n",
      "\u001b[1;32m[Parsed_subtitles_0 @ 0x560480729e40] \u001b[0mLoading font file 'fonts/Marhey.ttf'\n",
      "\u001b[1;32m[Parsed_subtitles_0 @ 0x560480729e40] \u001b[0mLoading font file 'fonts/Monoton.ttf'\n",
      "\u001b[1;32m[Parsed_subtitles_0 @ 0x560480729e40] \u001b[0mLoading font file 'fonts/Yellowtail.ttf'\n",
      "\u001b[1;32m[Parsed_subtitles_0 @ 0x560480729e40] \u001b[0mLoading font file 'fonts/Lobster.ttf'\n",
      "\u001b[1;32m[Parsed_subtitles_0 @ 0x560480729e40] \u001b[0mLoading font file 'fonts/Creepster.ttf'\n",
      "\u001b[1;32m[Parsed_subtitles_0 @ 0x560480729e40] \u001b[0mLoading font file 'fonts/Nerko One.ttf'\n",
      "\u001b[1;32m[Parsed_subtitles_0 @ 0x560480729e40] \u001b[0mLoading font file 'fonts/Bungee Inline.ttf'\n",
      "\u001b[1;32m[Parsed_subtitles_0 @ 0x560480729e40] \u001b[0mLoading font file 'fonts/Rye.ttf'\n",
      "\u001b[1;32m[Parsed_subtitles_0 @ 0x560480729e40] \u001b[0mLoading font file 'fonts/Alfa Slab One.ttf'\n",
      "\u001b[1;32m[Parsed_subtitles_0 @ 0x560480729e40] \u001b[0mLoading font file 'fonts/Syne Mono.ttf'\n",
      "\u001b[1;32m[Parsed_subtitles_0 @ 0x560480729e40] \u001b[0mLoading font file 'fonts/Secular One.ttf'\n",
      "\u001b[1;32m[Parsed_subtitles_0 @ 0x560480729e40] \u001b[0mLoading font file 'fonts/Shrikhand.ttf'\n",
      "\u001b[1;32m[Parsed_subtitles_0 @ 0x560480729e40] \u001b[0mLoading font file 'fonts/Permanent Marker.ttf'\n",
      "\u001b[1;32m[Parsed_subtitles_0 @ 0x560480729e40] \u001b[0mLoading font file 'fonts/Fredoka One.ttf'\n",
      "\u001b[1;32m[Parsed_subtitles_0 @ 0x560480729e40] \u001b[0mLoading font file 'fonts/Anton.ttf'\n",
      "\u001b[1;32m[Parsed_subtitles_0 @ 0x560480729e40] \u001b[0mLoading font file 'fonts/Abril Fatface.ttf'\n",
      "\u001b[1;32m[Parsed_subtitles_0 @ 0x560480729e40] \u001b[0mLoading font file 'fonts/Rubik Distressed.ttf'\n",
      "\u001b[1;32m[Parsed_subtitles_0 @ 0x560480729e40] \u001b[0mLoading font file 'fonts/Satisfy.ttf'\n",
      "\u001b[1;32m[Parsed_subtitles_0 @ 0x560480729e40] \u001b[0mUsing font provider fontconfig\n",
      "\u001b[1;32m[Parsed_subtitles_1 @ 0x560480dee140] \u001b[0mlibass API version: 0x1502000\n",
      "\u001b[1;32m[Parsed_subtitles_1 @ 0x560480dee140] \u001b[0mlibass source: tarball: 0.15.2\n",
      "\u001b[1;32m[Parsed_subtitles_1 @ 0x560480dee140] \u001b[0mShaper: FriBidi 1.0.8 (SIMPLE) HarfBuzz-ng 2.7.4 (COMPLEX)\n",
      "\u001b[1;32m[Parsed_subtitles_1 @ 0x560480dee140] \u001b[0mLoading font file 'fonts/Fredericka the Great.ttf'\n",
      "\u001b[1;32m[Parsed_subtitles_1 @ 0x560480dee140] \u001b[0mLoading font file 'fonts/VT323.ttf'\n",
      "\u001b[1;32m[Parsed_subtitles_1 @ 0x560480dee140] \u001b[0mLoading font file 'fonts/Cabin Sketch.ttf'\n",
      "\u001b[1;32m[Parsed_subtitles_1 @ 0x560480dee140] \u001b[0mLoading font file 'fonts/Righteous.ttf'\n",
      "\u001b[1;32m[Parsed_subtitles_1 @ 0x560480dee140] \u001b[0mLoading font file 'fonts/Russo One.ttf'\n",
      "\u001b[1;32m[Parsed_subtitles_1 @ 0x560480dee140] \u001b[0mLoading font file 'fonts/Audiowide.ttf'\n",
      "\u001b[1;32m[Parsed_subtitles_1 @ 0x560480dee140] \u001b[0mLoading font file 'fonts/Rubik Marker Hatch.ttf'\n",
      "\u001b[1;32m[Parsed_subtitles_1 @ 0x560480dee140] \u001b[0mLoading font file 'fonts/Nanum Pen.ttf'\n",
      "\u001b[1;32m[Parsed_subtitles_1 @ 0x560480dee140] \u001b[0mLoading font file 'fonts/Marhey.ttf'\n",
      "\u001b[1;32m[Parsed_subtitles_1 @ 0x560480dee140] \u001b[0mLoading font file 'fonts/Monoton.ttf'\n",
      "\u001b[1;32m[Parsed_subtitles_1 @ 0x560480dee140] \u001b[0mLoading font file 'fonts/Yellowtail.ttf'\n",
      "\u001b[1;32m[Parsed_subtitles_1 @ 0x560480dee140] \u001b[0mLoading font file 'fonts/Lobster.ttf'\n",
      "\u001b[1;32m[Parsed_subtitles_1 @ 0x560480dee140] \u001b[0mLoading font file 'fonts/Creepster.ttf'\n",
      "\u001b[1;32m[Parsed_subtitles_1 @ 0x560480dee140] \u001b[0mLoading font file 'fonts/Nerko One.ttf'\n",
      "\u001b[1;32m[Parsed_subtitles_1 @ 0x560480dee140] \u001b[0mLoading font file 'fonts/Bungee Inline.ttf'\n",
      "\u001b[1;32m[Parsed_subtitles_1 @ 0x560480dee140] \u001b[0mLoading font file 'fonts/Rye.ttf'\n",
      "\u001b[1;32m[Parsed_subtitles_1 @ 0x560480dee140] \u001b[0mLoading font file 'fonts/Alfa Slab One.ttf'\n",
      "\u001b[1;32m[Parsed_subtitles_1 @ 0x560480dee140] \u001b[0mLoading font file 'fonts/Syne Mono.ttf'\n",
      "\u001b[1;32m[Parsed_subtitles_1 @ 0x560480dee140] \u001b[0mLoading font file 'fonts/Secular One.ttf'\n",
      "\u001b[1;32m[Parsed_subtitles_1 @ 0x560480dee140] \u001b[0mLoading font file 'fonts/Shrikhand.ttf'\n",
      "\u001b[1;32m[Parsed_subtitles_1 @ 0x560480dee140] \u001b[0mLoading font file 'fonts/Permanent Marker.ttf'\n",
      "\u001b[1;32m[Parsed_subtitles_1 @ 0x560480dee140] \u001b[0mLoading font file 'fonts/Fredoka One.ttf'\n",
      "\u001b[1;32m[Parsed_subtitles_1 @ 0x560480dee140] \u001b[0mLoading font file 'fonts/Anton.ttf'\n",
      "\u001b[1;32m[Parsed_subtitles_1 @ 0x560480dee140] \u001b[0mLoading font file 'fonts/Abril Fatface.ttf'\n",
      "\u001b[1;32m[Parsed_subtitles_1 @ 0x560480dee140] \u001b[0mLoading font file 'fonts/Rubik Distressed.ttf'\n",
      "\u001b[1;32m[Parsed_subtitles_1 @ 0x560480dee140] \u001b[0mLoading font file 'fonts/Satisfy.ttf'\n",
      "\u001b[1;32m[Parsed_subtitles_1 @ 0x560480dee140] \u001b[0mUsing font provider fontconfig\n",
      "\u001b[1;32m[Parsed_subtitles_0 @ 0x560480729e40] \u001b[0mfontselect: (Monoton, 400, 0) -> Monoton-Regular, 0, Monoton-Regular\n",
      "\u001b[1;32m[Parsed_subtitles_1 @ 0x560480dee140] \u001b[0mfontselect: (Monoton, 400, 0) -> Monoton-Regular, 0, Monoton-Regular\n",
      "Output #0, image2, to 'output/output.png':\n",
      "  Metadata:\n",
      "    encoder         : Lavf58.76.100\n",
      "  Stream #0:0: Video: png, rgba(pc, progressive), 1600x900 [SAR 3780:3780 DAR 16:9], q=2-31, 200 kb/s, 25 fps, 25 tbn\n",
      "    Metadata:\n",
      "      encoder         : Lavc58.134.100 png\n",
      "frame=    1 fps=0.0 q=-0.0 Lsize=N/A time=00:00:00.04 bitrate=N/A speed=0.107x    \n",
      "video:292kB audio:0kB subtitle:0kB other streams:0kB global headers:0kB muxing overhead: unknown\n"
     ]
    }
   ],
   "source": [
    "!sh generate_image.sh \"images/{background_image}\" \"{font}\""
   ]
  },
  {
   "cell_type": "markdown",
   "metadata": {},
   "source": [
    "---"
   ]
  },
  {
   "cell_type": "markdown",
   "metadata": {},
   "source": [
    "### Twitter Credentials\n",
    "\n",
    "1. Try to get the credentials passed as arguments\n",
    "2. If not, try to get the credentials from the `.env` file"
   ]
  },
  {
   "cell_type": "code",
   "execution_count": 9,
   "metadata": {},
   "outputs": [],
   "source": [
    "CONSUMER_KEY = \"\"\n",
    "CONSUMER_SECRET = \"\"\n",
    "ACCESS_TOKEN = \"\"\n",
    "ACCESS_TOKEN_SECRET = \"\"\n"
   ]
  },
  {
   "cell_type": "code",
   "execution_count": 10,
   "metadata": {},
   "outputs": [
    {
     "name": "stdout",
     "output_type": "stream",
     "text": [
      "option --ip not recognized\n"
     ]
    }
   ],
   "source": [
    "argumentList = sys.argv[1:]\n",
    "\n",
    "options = \"1:2:3:4:\"\n",
    "\n",
    "long_options = [\n",
    "    \"twitter_consumer_key=\",\n",
    "    \"twitter_consumer_secret=\",\n",
    "    \"twitter_access_token=\",\n",
    "    \"twitter_access_token_secret=\",\n",
    "]\n",
    "\n",
    "try:\n",
    "    arguments, values = getopt.getopt(argumentList, options, long_options)\n",
    "\n",
    "    for currentArgument, currentValue in arguments:\n",
    "\n",
    "        if currentArgument in [\"-1\", \"--twitter_consumer_key\"]:\n",
    "            CONSUMER_KEY = currentValue\n",
    "        elif currentArgument in [\"-2\", \"--twitter_consumer_secret\"]:\n",
    "            CONSUMER_SECRET = currentValue\n",
    "        elif currentArgument in [\"-3\", \"--twitter_access_token\"]:\n",
    "            ACCESS_TOKEN = currentValue\n",
    "        elif currentArgument in [\"-4\", \"--twitter_access_token_secret\"]:\n",
    "            ACCESS_TOKEN_SECRET = currentValue\n",
    "\n",
    "except getopt.error as err:\n",
    "    \"\"\"You may see an error like 'option --ip not recognized' if executed from Jupyter Notebook\"\"\"\n",
    "    print(str(err))\n"
   ]
  },
  {
   "cell_type": "code",
   "execution_count": 11,
   "metadata": {},
   "outputs": [
    {
     "name": "stdout",
     "output_type": "stream",
     "text": [
      "Consumer Key: \n",
      "Consumer Secret: \n",
      "Access Token: \n",
      "Access Token Secret: \n"
     ]
    }
   ],
   "source": [
    "print(\"Consumer Key:\", CONSUMER_KEY)\n",
    "print(\"Consumer Secret:\", CONSUMER_SECRET)\n",
    "print(\"Access Token:\", ACCESS_TOKEN)\n",
    "print(\"Access Token Secret:\", ACCESS_TOKEN_SECRET)\n"
   ]
  },
  {
   "cell_type": "code",
   "execution_count": 12,
   "metadata": {},
   "outputs": [
    {
     "name": "stdout",
     "output_type": "stream",
     "text": [
      "Consumer Key: 5AO2rtqAMJxAvAtMkpiAYJIBt\n",
      "Consumer Secret: ZPPUa5eCBHiY3Q7VjkE1StT2MnTRdG384jzicAGX7B27S4ECkq\n",
      "Access Token: 1596233231384588288-97xCedD9MCaeaQZfcDw4CI6mFwVvfO\n",
      "Access Token Secret: Jt3AhEMYW7WI43v1M6b2oLBcw8KeHZTiaVUkGeZqiItQh\n"
     ]
    }
   ],
   "source": [
    "%load_ext dotenv\n",
    "%dotenv\n",
    "\n",
    "if CONSUMER_KEY == \"\" or CONSUMER_SECRET == \"\" or ACCESS_TOKEN == \"\" or ACCESS_TOKEN_SECRET == \"\":\n",
    "    if CONSUMER_KEY == \"\":\n",
    "        CONSUMER_KEY = os.getenv(\"TWITTER_CONSUMER_KEY\")\n",
    "    if CONSUMER_SECRET == \"\":\n",
    "        CONSUMER_SECRET = os.getenv(\"TWITTER_CONSUMER_SECRET\")\n",
    "    if ACCESS_TOKEN == \"\":\n",
    "        ACCESS_TOKEN = os.getenv(\"TWITTER_ACCESS_TOKEN\")\n",
    "    if ACCESS_TOKEN_SECRET == \"\":\n",
    "        ACCESS_TOKEN_SECRET = os.getenv(\"TWITTER_ACCESS_TOKEN_SECRET\")\n",
    "    print(\"Consumer Key:\", CONSUMER_KEY)\n",
    "    print(\"Consumer Secret:\", CONSUMER_SECRET)\n",
    "    print(\"Access Token:\", ACCESS_TOKEN)\n",
    "    print(\"Access Token Secret:\", ACCESS_TOKEN_SECRET)\n"
   ]
  },
  {
   "cell_type": "markdown",
   "metadata": {},
   "source": [
    "---"
   ]
  },
  {
   "cell_type": "code",
   "execution_count": 13,
   "metadata": {},
   "outputs": [
    {
     "name": "stdout",
     "output_type": "stream",
     "text": [
      "1596244973401186304\n",
      "1596244978300178432\n"
     ]
    }
   ],
   "source": [
    "if CONSUMER_KEY == \"\" or CONSUMER_KEY == None:\n",
    "    print(\"No consumer key\")\n",
    "if CONSUMER_SECRET == \"\" or CONSUMER_SECRET == None:\n",
    "    print(\"No consumer secret\")\n",
    "if ACCESS_TOKEN == \"\" or ACCESS_TOKEN == None:\n",
    "    print(\"No access key\")\n",
    "if ACCESS_TOKEN_SECRET == \"\" or ACCESS_TOKEN_SECRET == None:\n",
    "    print(\"No access secret\")\n",
    "else:\n",
    "    # upload image to twitter\n",
    "    auth = tweepy.OAuthHandler(\n",
    "        CONSUMER_KEY, CONSUMER_SECRET, ACCESS_TOKEN, ACCESS_TOKEN_SECRET)\n",
    "\n",
    "    api = tweepy.API(auth)\n",
    "\n",
    "    media = api.media_upload(filename=\"output/output.png\")\n",
    "    print(media.media_id)\n",
    "\n",
    "    tweet = api.update_status(status=\"\", media_ids=[media.media_id])\n",
    "    print(tweet.id)\n",
    "\n",
    "    cur.execute(\"UPDATE quotes SET tweeted = 1 WHERE quote = ?\", (quote,))\n",
    "    conn.commit()\n",
    "    conn.close()\n"
   ]
  },
  {
   "cell_type": "markdown",
   "metadata": {},
   "source": [
    "---"
   ]
  },
  {
   "cell_type": "markdown",
   "metadata": {},
   "source": [
    "<p align=\"center\">Made with 💖 by 9 Bit of Code</p>"
   ]
  },
  {
   "cell_type": "markdown",
   "metadata": {},
   "source": [
    "---"
   ]
  }
 ],
 "metadata": {
  "kernelspec": {
   "display_name": "Python 3.10.6 ('.venv': venv)",
   "language": "python",
   "name": "python3"
  },
  "language_info": {
   "codemirror_mode": {
    "name": "ipython",
    "version": 3
   },
   "file_extension": ".py",
   "mimetype": "text/x-python",
   "name": "python",
   "nbconvert_exporter": "python",
   "pygments_lexer": "ipython3",
   "version": "3.10.6"
  },
  "orig_nbformat": 4,
  "vscode": {
   "interpreter": {
    "hash": "5b94c429e1aee99f8230f19ffb7ae8c7beee29b996ce0b142e33b9f3536e8c14"
   }
  }
 },
 "nbformat": 4,
 "nbformat_minor": 2
}
